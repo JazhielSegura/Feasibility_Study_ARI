{
 "cells": [
  {
   "cell_type": "code",
   "execution_count": 29,
   "id": "0e48625d",
   "metadata": {},
   "outputs": [],
   "source": [
    "import pandas as pd\n",
    "import numpy as np\n",
    "from sklearn.model_selection import train_test_split\n",
    "from sklearn import preprocessing\n",
    "import matplotlib.pyplot as plt\n",
    "from sklearn.cluster import KMeans\n",
    "from mpl_toolkits.mplot3d import Axes3D\n",
    "from sklearn.svm import SVC\n",
    "from sklearn.metrics import accuracy_score, classification_report\n",
    "from sklearn.model_selection import cross_val_score\n",
    "from mpl_toolkits.mplot3d import Axes3D\n",
    "from sklearn.multiclass import OneVsRestClassifier\n",
    "from sklearn.svm import LinearSVC"
   ]
  },
  {
   "cell_type": "code",
   "execution_count": 30,
   "id": "a2acffab",
   "metadata": {},
   "outputs": [],
   "source": [
    "# SQL Query\n",
    "\n",
    "# SELECT TOP 200\n",
    "# g.oii_3726_flux, g.neiii_3869_flux, g.oiii_5007_flux, g.h_beta_flux, \n",
    "# g.nii_6584_flux, g.h_alpha_flux, g.sii_6731_flux, s.z, Gal.bptclass\n",
    "\n",
    "# FROM GalSpecLine as g\n",
    "# JOIN GalSpecExtra AS Gal ON g.specObjID = Gal.specObjID\n",
    "# JOIN SpecPhotoAll AS s ON g.specObjID = s.specObjID\n",
    "# WHERE \n",
    "# s.class = 'Galaxy' AND s.z < 0.3 And Gal.bptclass != -1\n"
   ]
  },
  {
   "cell_type": "code",
   "execution_count": 31,
   "id": "21e61657",
   "metadata": {},
   "outputs": [
    {
     "data": {
      "text/plain": [
       "(200, 9)"
      ]
     },
     "execution_count": 31,
     "metadata": {},
     "output_type": "execute_result"
    }
   ],
   "source": [
    "#Reading the data \n",
    "Data = pd.read_csv('../Data/Galaxy_Data.csv')\n",
    "Data.head()\n",
    "Data.shape"
   ]
  },
  {
   "cell_type": "markdown",
   "id": "44566b60",
   "metadata": {},
   "source": [
    "<h1> Data Preprocessing </h1>"
   ]
  },
  {
   "cell_type": "code",
   "execution_count": 32,
   "id": "1075ce08",
   "metadata": {},
   "outputs": [],
   "source": [
    "\n",
    "Data = Data[(Data['oii_3726_flux'] != 0) & (Data['neiii_3869_flux'] != 0) & (Data['oiii_5007_flux'] != 0) & (Data['h_beta_flux'] != 0) & (Data['nii_6584_flux'] != 0) & (Data['h_alpha_flux'] != 0) & (Data['sii_6731_flux'] != 0)]\n",
    "#For binary classification remove with bpt class of 3\n",
    "Binary_Classification = Data[Data['bptclass'] != 3]\n",
    "Galaxy_Classifications = Binary_Classification['bptclass']\n",
    "Binary_Classification.head()\n",
    "Redshifts = Binary_Classification['Redshift']\n",
    "Flux_Measurements = Binary_Classification.drop(columns = ['Redshift', 'bptclass'])\n"
   ]
  },
  {
   "cell_type": "code",
   "execution_count": 33,
   "id": "1e8a2327",
   "metadata": {},
   "outputs": [],
   "source": [
    "def change_values(value):\n",
    "    if value == 1 or value == 2:\n",
    "        return 1\n",
    "    if value == 3:\n",
    "        return 2\n",
    "    elif value == 4 or value == 5:\n",
    "        return 3"
   ]
  },
  {
   "cell_type": "code",
   "execution_count": 34,
   "id": "64b6580b",
   "metadata": {},
   "outputs": [
    {
     "data": {
      "text/plain": [
       "3      1\n",
       "4      1\n",
       "5      1\n",
       "6      1\n",
       "7      1\n",
       "      ..\n",
       "194    1\n",
       "195    3\n",
       "196    1\n",
       "197    1\n",
       "199    1\n",
       "Name: bptclass, Length: 163, dtype: int64"
      ]
     },
     "execution_count": 34,
     "metadata": {},
     "output_type": "execute_result"
    }
   ],
   "source": [
    "AGN_StarForming_Classifications = Galaxy_Classifications.apply(change_values)\n",
    "AGN_StarForming_Classifications"
   ]
  },
  {
   "cell_type": "code",
   "execution_count": 35,
   "id": "2735fe02",
   "metadata": {},
   "outputs": [
    {
     "data": {
      "text/html": [
       "<div>\n",
       "<style scoped>\n",
       "    .dataframe tbody tr th:only-of-type {\n",
       "        vertical-align: middle;\n",
       "    }\n",
       "\n",
       "    .dataframe tbody tr th {\n",
       "        vertical-align: top;\n",
       "    }\n",
       "\n",
       "    .dataframe thead th {\n",
       "        text-align: right;\n",
       "    }\n",
       "</style>\n",
       "<table border=\"1\" class=\"dataframe\">\n",
       "  <thead>\n",
       "    <tr style=\"text-align: right;\">\n",
       "      <th></th>\n",
       "      <th>oii_3726_flux</th>\n",
       "      <th>neiii_3869_flux</th>\n",
       "      <th>oiii_5007_flux</th>\n",
       "      <th>h_beta_flux</th>\n",
       "      <th>nii_6584_flux</th>\n",
       "      <th>h_alpha_flux</th>\n",
       "      <th>sii_6731_flux</th>\n",
       "    </tr>\n",
       "  </thead>\n",
       "  <tbody>\n",
       "    <tr>\n",
       "      <th>3</th>\n",
       "      <td>29.878280</td>\n",
       "      <td>-1.847041</td>\n",
       "      <td>11.855670</td>\n",
       "      <td>47.366500</td>\n",
       "      <td>54.137490</td>\n",
       "      <td>181.52620</td>\n",
       "      <td>19.167620</td>\n",
       "    </tr>\n",
       "    <tr>\n",
       "      <th>4</th>\n",
       "      <td>48.753910</td>\n",
       "      <td>-2.035048</td>\n",
       "      <td>35.466710</td>\n",
       "      <td>38.332260</td>\n",
       "      <td>25.789630</td>\n",
       "      <td>127.30580</td>\n",
       "      <td>25.722970</td>\n",
       "    </tr>\n",
       "    <tr>\n",
       "      <th>5</th>\n",
       "      <td>-0.361507</td>\n",
       "      <td>-0.440258</td>\n",
       "      <td>5.567666</td>\n",
       "      <td>18.897210</td>\n",
       "      <td>4.083941</td>\n",
       "      <td>40.48693</td>\n",
       "      <td>-0.516020</td>\n",
       "    </tr>\n",
       "    <tr>\n",
       "      <th>6</th>\n",
       "      <td>32.117090</td>\n",
       "      <td>7.667253</td>\n",
       "      <td>15.599010</td>\n",
       "      <td>53.182280</td>\n",
       "      <td>76.354820</td>\n",
       "      <td>211.50180</td>\n",
       "      <td>28.479640</td>\n",
       "    </tr>\n",
       "    <tr>\n",
       "      <th>7</th>\n",
       "      <td>17.377120</td>\n",
       "      <td>2.074602</td>\n",
       "      <td>16.261190</td>\n",
       "      <td>42.869560</td>\n",
       "      <td>61.221300</td>\n",
       "      <td>195.51970</td>\n",
       "      <td>24.305620</td>\n",
       "    </tr>\n",
       "    <tr>\n",
       "      <th>...</th>\n",
       "      <td>...</td>\n",
       "      <td>...</td>\n",
       "      <td>...</td>\n",
       "      <td>...</td>\n",
       "      <td>...</td>\n",
       "      <td>...</td>\n",
       "      <td>...</td>\n",
       "    </tr>\n",
       "    <tr>\n",
       "      <th>194</th>\n",
       "      <td>-1.016173</td>\n",
       "      <td>0.166754</td>\n",
       "      <td>4.154623</td>\n",
       "      <td>7.404680</td>\n",
       "      <td>8.230973</td>\n",
       "      <td>18.20489</td>\n",
       "      <td>0.028184</td>\n",
       "    </tr>\n",
       "    <tr>\n",
       "      <th>195</th>\n",
       "      <td>11.741700</td>\n",
       "      <td>1.130993</td>\n",
       "      <td>12.104400</td>\n",
       "      <td>5.016534</td>\n",
       "      <td>18.810300</td>\n",
       "      <td>23.94296</td>\n",
       "      <td>5.658797</td>\n",
       "    </tr>\n",
       "    <tr>\n",
       "      <th>196</th>\n",
       "      <td>198.676500</td>\n",
       "      <td>10.777490</td>\n",
       "      <td>107.406300</td>\n",
       "      <td>194.576900</td>\n",
       "      <td>229.458900</td>\n",
       "      <td>724.72580</td>\n",
       "      <td>90.241070</td>\n",
       "    </tr>\n",
       "    <tr>\n",
       "      <th>197</th>\n",
       "      <td>13.262350</td>\n",
       "      <td>4.131592</td>\n",
       "      <td>13.496670</td>\n",
       "      <td>53.704480</td>\n",
       "      <td>91.392560</td>\n",
       "      <td>271.50200</td>\n",
       "      <td>27.886870</td>\n",
       "    </tr>\n",
       "    <tr>\n",
       "      <th>199</th>\n",
       "      <td>71.724400</td>\n",
       "      <td>0.629901</td>\n",
       "      <td>31.131210</td>\n",
       "      <td>112.294200</td>\n",
       "      <td>170.831800</td>\n",
       "      <td>523.62000</td>\n",
       "      <td>60.779950</td>\n",
       "    </tr>\n",
       "  </tbody>\n",
       "</table>\n",
       "<p>163 rows × 7 columns</p>\n",
       "</div>"
      ],
      "text/plain": [
       "     oii_3726_flux  neiii_3869_flux  oiii_5007_flux  h_beta_flux   \n",
       "3        29.878280        -1.847041       11.855670    47.366500  \\\n",
       "4        48.753910        -2.035048       35.466710    38.332260   \n",
       "5        -0.361507        -0.440258        5.567666    18.897210   \n",
       "6        32.117090         7.667253       15.599010    53.182280   \n",
       "7        17.377120         2.074602       16.261190    42.869560   \n",
       "..             ...              ...             ...          ...   \n",
       "194      -1.016173         0.166754        4.154623     7.404680   \n",
       "195      11.741700         1.130993       12.104400     5.016534   \n",
       "196     198.676500        10.777490      107.406300   194.576900   \n",
       "197      13.262350         4.131592       13.496670    53.704480   \n",
       "199      71.724400         0.629901       31.131210   112.294200   \n",
       "\n",
       "     nii_6584_flux  h_alpha_flux  sii_6731_flux  \n",
       "3        54.137490     181.52620      19.167620  \n",
       "4        25.789630     127.30580      25.722970  \n",
       "5         4.083941      40.48693      -0.516020  \n",
       "6        76.354820     211.50180      28.479640  \n",
       "7        61.221300     195.51970      24.305620  \n",
       "..             ...           ...            ...  \n",
       "194       8.230973      18.20489       0.028184  \n",
       "195      18.810300      23.94296       5.658797  \n",
       "196     229.458900     724.72580      90.241070  \n",
       "197      91.392560     271.50200      27.886870  \n",
       "199     170.831800     523.62000      60.779950  \n",
       "\n",
       "[163 rows x 7 columns]"
      ]
     },
     "execution_count": 35,
     "metadata": {},
     "output_type": "execute_result"
    }
   ],
   "source": [
    "Flux_Measurements"
   ]
  },
  {
   "cell_type": "code",
   "execution_count": 36,
   "id": "33061038",
   "metadata": {},
   "outputs": [
    {
     "data": {
      "text/html": [
       "<div>\n",
       "<style scoped>\n",
       "    .dataframe tbody tr th:only-of-type {\n",
       "        vertical-align: middle;\n",
       "    }\n",
       "\n",
       "    .dataframe tbody tr th {\n",
       "        vertical-align: top;\n",
       "    }\n",
       "\n",
       "    .dataframe thead th {\n",
       "        text-align: right;\n",
       "    }\n",
       "</style>\n",
       "<table border=\"1\" class=\"dataframe\">\n",
       "  <thead>\n",
       "    <tr style=\"text-align: right;\">\n",
       "      <th></th>\n",
       "      <th>oiii_5007_flux/h_beta_flux</th>\n",
       "      <th>nii_6584_flux/h_alpha_flux</th>\n",
       "      <th>sii_6731_flux/h_alpha_flux</th>\n",
       "    </tr>\n",
       "  </thead>\n",
       "  <tbody>\n",
       "    <tr>\n",
       "      <th>3</th>\n",
       "      <td>0.250297</td>\n",
       "      <td>0.298235</td>\n",
       "      <td>0.105591</td>\n",
       "    </tr>\n",
       "    <tr>\n",
       "      <th>4</th>\n",
       "      <td>0.925244</td>\n",
       "      <td>0.202580</td>\n",
       "      <td>0.202057</td>\n",
       "    </tr>\n",
       "    <tr>\n",
       "      <th>5</th>\n",
       "      <td>0.294629</td>\n",
       "      <td>0.100871</td>\n",
       "      <td>-0.012745</td>\n",
       "    </tr>\n",
       "    <tr>\n",
       "      <th>6</th>\n",
       "      <td>0.293312</td>\n",
       "      <td>0.361013</td>\n",
       "      <td>0.134654</td>\n",
       "    </tr>\n",
       "    <tr>\n",
       "      <th>7</th>\n",
       "      <td>0.379318</td>\n",
       "      <td>0.313121</td>\n",
       "      <td>0.124313</td>\n",
       "    </tr>\n",
       "  </tbody>\n",
       "</table>\n",
       "</div>"
      ],
      "text/plain": [
       "   oiii_5007_flux/h_beta_flux  nii_6584_flux/h_alpha_flux   \n",
       "3                    0.250297                    0.298235  \\\n",
       "4                    0.925244                    0.202580   \n",
       "5                    0.294629                    0.100871   \n",
       "6                    0.293312                    0.361013   \n",
       "7                    0.379318                    0.313121   \n",
       "\n",
       "   sii_6731_flux/h_alpha_flux  \n",
       "3                    0.105591  \n",
       "4                    0.202057  \n",
       "5                   -0.012745  \n",
       "6                    0.134654  \n",
       "7                    0.124313  "
      ]
     },
     "execution_count": 36,
     "metadata": {},
     "output_type": "execute_result"
    }
   ],
   "source": [
    "#Forming Datatable with Ratios [NeIII/OII], [OIII/Hb], [NII/Ha], [SII/Ha]\n",
    "Aggregate_Data = {'neiii_3869_flux/oii_3726_flux':Flux_Measurements['neiii_3869_flux']/Flux_Measurements['oii_3726_flux'], \n",
    "            'oiii_5007_flux/h_beta_flux' : Flux_Measurements['oiii_5007_flux']/Flux_Measurements['h_beta_flux'],  \n",
    "            'nii_6584_flux/h_alpha_flux': Flux_Measurements['nii_6584_flux']/Flux_Measurements['h_alpha_flux'],\n",
    "            'sii_6731_flux/h_alpha_flux':Flux_Measurements['sii_6731_flux']/Flux_Measurements['h_alpha_flux']}\n",
    "Emission_Ratios = pd.DataFrame(data = Aggregate_Data)\n",
    "Emission_Ratios.head()\n",
    "#Forming BPT Ratios \n",
    "BPT_Data = {'oiii_5007_flux/h_beta_flux' : Flux_Measurements['oiii_5007_flux']/Flux_Measurements['h_beta_flux'],\n",
    "           'nii_6584_flux/h_alpha_flux': Flux_Measurements['nii_6584_flux']/Flux_Measurements['h_alpha_flux'],\n",
    "           'sii_6731_flux/h_alpha_flux':Flux_Measurements['sii_6731_flux']/Flux_Measurements['h_alpha_flux']}\n",
    "BPT_Ratios = pd.DataFrame(data = BPT_Data)\n",
    "BPT_Ratios.head()"
   ]
  },
  {
   "cell_type": "markdown",
   "id": "d7e5d104",
   "metadata": {},
   "source": [
    "<h2> BPT Ratios Model <h2> "
   ]
  },
  {
   "cell_type": "code",
   "execution_count": 37,
   "id": "474f5d24",
   "metadata": {},
   "outputs": [],
   "source": [
    "X_train, X_test, Y_Train, Y_test = train_test_split(BPT_Ratios, AGN_StarForming_Classifications, test_size = .33)"
   ]
  },
  {
   "cell_type": "code",
   "execution_count": 38,
   "id": "801951b3",
   "metadata": {},
   "outputs": [
    {
     "data": {
      "text/plain": [
       "SVC()"
      ]
     },
     "execution_count": 38,
     "metadata": {},
     "output_type": "execute_result"
    }
   ],
   "source": [
    "model = SVC(kernel = 'rbf')\n",
    "model.fit(X_train, Y_Train)"
   ]
  },
  {
   "cell_type": "code",
   "execution_count": 39,
   "id": "17bdcb66",
   "metadata": {},
   "outputs": [],
   "source": [
    "predictions = model.predict(X_test)"
   ]
  },
  {
   "cell_type": "code",
   "execution_count": 40,
   "id": "aad2a0d7",
   "metadata": {},
   "outputs": [
    {
     "name": "stdout",
     "output_type": "stream",
     "text": [
      "Accuracy: 0.9074074074074074\n"
     ]
    }
   ],
   "source": [
    "accuracy = accuracy_score(Y_test, predictions)\n",
    "print(\"Accuracy:\", accuracy)"
   ]
  },
  {
   "cell_type": "code",
   "execution_count": 41,
   "id": "279a66ce",
   "metadata": {},
   "outputs": [
    {
     "name": "stdout",
     "output_type": "stream",
     "text": [
      "Classification Report:\n",
      "               precision    recall  f1-score   support\n",
      "\n",
      "           1       0.90      0.97      0.94        39\n",
      "           3       0.92      0.73      0.81        15\n",
      "\n",
      "    accuracy                           0.91        54\n",
      "   macro avg       0.91      0.85      0.88        54\n",
      "weighted avg       0.91      0.91      0.90        54\n",
      "\n"
     ]
    }
   ],
   "source": [
    "class_report = classification_report(Y_test, predictions)\n",
    "print(\"Classification Report:\\n\", class_report)"
   ]
  },
  {
   "cell_type": "markdown",
   "id": "ad1e55bc",
   "metadata": {},
   "source": [
    "<h2> Aggregate Model <h2> "
   ]
  },
  {
   "cell_type": "code",
   "execution_count": 42,
   "id": "1f76e114",
   "metadata": {},
   "outputs": [],
   "source": [
    "X_train, X_test, Y_Train, Y_test = train_test_split(Emission_Ratios, AGN_StarForming_Classifications, test_size = .33)"
   ]
  },
  {
   "cell_type": "code",
   "execution_count": 43,
   "id": "b2b94f04",
   "metadata": {},
   "outputs": [
    {
     "data": {
      "text/plain": [
       "SVC()"
      ]
     },
     "execution_count": 43,
     "metadata": {},
     "output_type": "execute_result"
    }
   ],
   "source": [
    "model = SVC(kernel = 'rbf')\n",
    "model.fit(X_train, Y_Train)"
   ]
  },
  {
   "cell_type": "code",
   "execution_count": 44,
   "id": "bbde0b44",
   "metadata": {},
   "outputs": [],
   "source": [
    "predictions = model.predict(X_test)"
   ]
  },
  {
   "cell_type": "code",
   "execution_count": 45,
   "id": "f2359063",
   "metadata": {},
   "outputs": [
    {
     "name": "stdout",
     "output_type": "stream",
     "text": [
      "Accuracy: 0.8518518518518519\n"
     ]
    }
   ],
   "source": [
    "accuracy = accuracy_score(Y_test, predictions)\n",
    "print(\"Accuracy:\", accuracy)"
   ]
  },
  {
   "cell_type": "code",
   "execution_count": 46,
   "id": "13842bc0",
   "metadata": {},
   "outputs": [
    {
     "name": "stdout",
     "output_type": "stream",
     "text": [
      "Classification Report:\n",
      "               precision    recall  f1-score   support\n",
      "\n",
      "           1       0.86      0.95      0.90        40\n",
      "           3       0.80      0.57      0.67        14\n",
      "\n",
      "    accuracy                           0.85        54\n",
      "   macro avg       0.83      0.76      0.79        54\n",
      "weighted avg       0.85      0.85      0.84        54\n",
      "\n"
     ]
    }
   ],
   "source": [
    "class_report = classification_report(Y_test, predictions)\n",
    "print(\"Classification Report:\\n\", class_report)"
   ]
  },
  {
   "cell_type": "markdown",
   "id": "acd47d26",
   "metadata": {},
   "source": [
    "<h2> 10-Fold Cross Validation <h2>"
   ]
  },
  {
   "cell_type": "code",
   "execution_count": 47,
   "id": "6df59d87",
   "metadata": {},
   "outputs": [
    {
     "name": "stdout",
     "output_type": "stream",
     "text": [
      "[0.82352941 0.82352941 0.94117647 0.9375     1.         0.8125\n",
      " 0.8125     0.6875     0.875      0.875     ]\n"
     ]
    }
   ],
   "source": [
    "svm_model = SVC(kernel = 'rbf')\n",
    "num_folds = 10\n",
    "scores = cross_val_score(svm_model, Emission_Ratios, AGN_StarForming_Classifications, cv = num_folds)\n",
    "print(scores)"
   ]
  },
  {
   "cell_type": "code",
   "execution_count": 48,
   "id": "af96f294",
   "metadata": {},
   "outputs": [
    {
     "name": "stdout",
     "output_type": "stream",
     "text": [
      "0.8588235294117647\n"
     ]
    }
   ],
   "source": [
    "accuracy = np.mean(scores)\n",
    "print(accuracy)"
   ]
  },
  {
   "cell_type": "markdown",
   "id": "fc29a64b",
   "metadata": {},
   "source": [
    "<h1> Multi-Class SVM <h1>"
   ]
  },
  {
   "cell_type": "code",
   "execution_count": 49,
   "id": "993bd7d7",
   "metadata": {},
   "outputs": [],
   "source": [
    "Multiclass_Data = pd.read_csv('../Data/Galaxy_Data_2.csv')\n",
    "Multiclass_Data = Multiclass_Data[(Multiclass_Data['oii_3726_flux'] != 0) & (Multiclass_Data['neiii_3869_flux'] != 0) & (Multiclass_Data['oiii_5007_flux'] != 0) & (Multiclass_Data['h_beta_flux'] != 0) & (Multiclass_Data['nii_6584_flux'] != 0) & (Multiclass_Data['h_alpha_flux'] != 0) & (Multiclass_Data['sii_6731_flux'] != 0)]\n",
    "Multi_Classifications = Multiclass_Data['bptclass']\n",
    "Redshifts = Data['Redshift']\n",
    "Flux_Measurements = Multiclass_Data.drop(columns = ['Redshift', 'bptclass'])"
   ]
  },
  {
   "cell_type": "code",
   "execution_count": 50,
   "id": "f8b8a1bd",
   "metadata": {},
   "outputs": [
    {
     "name": "stdout",
     "output_type": "stream",
     "text": [
      "[2 2 1 1 1 1 1 3 1 1 1 2 1 1 1 1 3 3 1 3 3 3 1 1 2 3 3 2 1 1 1 3 3 1 1 1 1\n",
      " 1 2 1 1 1 1 2 1 1 1 1 1 1 1 1 2 2 2 1 1 1 1 1 1 2 1 1 2 3 1 1 2 1 1 3 1 3\n",
      " 1 1 3 1 2 2 1 1 1 1 1 3 1 1 1 1 1 1 1 1 1 1 1 1 3 1 1 3 1 1 3 2 1 1 3 1 1\n",
      " 1 3 1 1 1 2 1 1 1 1 1 3 1 3 1 3 1 1 1 2 3 1 1 1 3 1 1 1 1 2 1 1 2 1 1 3 1\n",
      " 1 3 1 1 3 3 1 3 1 1 3 1 1 3 1 1 3 1 1 3 1 1 1 3 3 1 3 1 3 3 1 3 1 1 2 1 3\n",
      " 1 1 1 1 1 3 1 1 1 2 3 1 3 1 3 3 1 1 1 3 3 1 2 3 3 2 2 3 1 3 1 1 2 1 1 3 2\n",
      " 1 1 1 1 1 1 1 1 2 1 1 1 2 1 2 1 1 3 1 3 3 1 1 1 1 1 1 1 3 1 1 1 2 1 1 1 1\n",
      " 1 1 1 1 1 3 1 1 3 1 1 2 1 1 3 1 1 1 1 1 1 1 3 3 1 3 3 1 1 1 1 1 3 1 1 3 3\n",
      " 1 1 1 1 3 1 1 1 1 1 1 1 1 1 3 1 3 3 3 3 1 1 2 1 2 1 1 1 3 1 3 1 1 3 1 1 3\n",
      " 1 3 1 3 3 1 1 1 3 3 2 1 1 2 1 1 1 1 1 2 1 1 2 3 3 1 1 3 3 3 3 3 2 1 1 1 1\n",
      " 1 2 3 1 3 1 3 1 1 1 1 1 3 1 1 2 1 1 1 3 1 1 1 1 1 1 1 1 3 2 1 3 1 1 1 1 1\n",
      " 1 3 1 1 1 1 1 1 1 3 1 2 1 3 1 1 1 1 1 1 3 1 1 1 3 1 1 1 1 1 1 1 1 1 3 1 1\n",
      " 3 1 1 1 1 1 3 1 2 1 1 3 1 1 1 1 3 1 1 1 1 3 1 3 1 1 3 1 1 1 1 2 3 1 3 1 3\n",
      " 1 1 1 1 1 1 1 1 1 1 1 3 1 1 1 3 1 1 2 1 1 2 1 1 1 1 1 3 1 1 3 3 1 1 3 1 3\n",
      " 3 3 3 2 2 3 3 2 1 1 1 3 3 1 1 1 1 1 1 3 1 1 1 1 1 1 1 3 3 1 1 3 2 3 1 1 3\n",
      " 2 1 3 1 1 1 1 1 1 3 1 3 2 1 3 2 1 1 3 1 3 1 1 3 1 1 1 1 1 1 1 1 3 1 3 1 1\n",
      " 1 1 2 1 1 1 1 1 2 1 1 1 1 1 1 1 1 3 1 1 1 1 2 3 1 1 1 1 1 1 3 1 1 3 3 1 1\n",
      " 1 3 1 2 2 1 1 1 1 1 1 1 2 1 3 1 1 1 3 3 1 1 1 1 1 1 1 1 2 1 2 1 1 1 1 1 1\n",
      " 3 2 1 1 1 3 1 2 1 1 1 1 1 1 1 1 1 2 1 3 3 1 1 1 1 1 1 1 1 2 1 1 1 1 1 1 1\n",
      " 1 1 1 1 1 1 3 1 3 1 3 1 1 1 1 3 1 3 1 1 3 3 1 3 3 1 3 1 2 1 1 1 1 1 1 1 1\n",
      " 1 1 1 3 1 1 1 1 3 1 1 2 3 1 1 3 1 1 3 1 1 1 2 2 1 1 1 1 1 1 3 1 1 1 1 1 3\n",
      " 1 1 1 3 1 1 1 3 1 1 1 1 1 1 1 2 1 1 2 2 1 1 1 1 1 1 1 1 1 1 1 3 1 3 3 1 3\n",
      " 1 1 2 3 2 1 1 3 1 1 1 1 1 3 1 3 1 1 1 1 3 1 1 1 1 1 1 3 1 3 3 1 1 1 1 1 3\n",
      " 1 1 1 1 1 3 1 3 1 1 1 1 2 1 3 1 1 2 3 3 1 1 1 1 1 1 1 1 3 1 1 1 3 1 1 3 1\n",
      " 3 1 2 3 3 1 3 3 1 1 3 3 3 1 1 3 1 1 3 1 1 1 1 1 1 1 3 3 1 1 3 1 1 1 2 1 3\n",
      " 1 1 2 2 1 1]\n"
     ]
    }
   ],
   "source": [
    "Multi_Classifications = Multi_Classifications.apply(change_values)\n",
    "print(Multi_Classifications.values)"
   ]
  },
  {
   "cell_type": "code",
   "execution_count": 51,
   "id": "2ae430c3",
   "metadata": {},
   "outputs": [
    {
     "name": "stdout",
     "output_type": "stream",
     "text": [
      "     neiii_3869_flux/oii_3726_flux  oiii_5007_flux/h_beta_flux   \n",
      "0                        -0.066153                    0.731779  \\\n",
      "2                         0.063194                    0.836349   \n",
      "3                        -0.061819                    0.250297   \n",
      "4                        -0.041741                    0.925244   \n",
      "5                         1.217840                    0.294629   \n",
      "..                             ...                         ...   \n",
      "995                      -0.172349                    0.664793   \n",
      "996                       0.177866                    1.391252   \n",
      "997                       0.358351                    0.922935   \n",
      "998                       0.090607                    0.363466   \n",
      "999                       0.317689                    0.190422   \n",
      "\n",
      "     nii_6584_flux/h_alpha_flux  sii_6731_flux/h_alpha_flux  \n",
      "0                      0.445568                    0.223006  \n",
      "2                      0.519029                    0.217885  \n",
      "3                      0.298235                    0.105591  \n",
      "4                      0.202580                    0.202057  \n",
      "5                      0.100871                   -0.012745  \n",
      "..                          ...                         ...  \n",
      "995                    0.473399                    0.142362  \n",
      "996                    0.744977                    0.226207  \n",
      "997                    0.628964                    0.134323  \n",
      "998                    0.291866                    0.196196  \n",
      "999                    0.340790                    0.116337  \n",
      "\n",
      "[931 rows x 4 columns]\n"
     ]
    }
   ],
   "source": [
    "Aggregate_Data = {'neiii_3869_flux/oii_3726_flux':Flux_Measurements['neiii_3869_flux']/Flux_Measurements['oii_3726_flux'], \n",
    "            'oiii_5007_flux/h_beta_flux' : Flux_Measurements['oiii_5007_flux']/Flux_Measurements['h_beta_flux'],  \n",
    "            'nii_6584_flux/h_alpha_flux': Flux_Measurements['nii_6584_flux']/Flux_Measurements['h_alpha_flux'],\n",
    "            'sii_6731_flux/h_alpha_flux':Flux_Measurements['sii_6731_flux']/Flux_Measurements['h_alpha_flux']}\n",
    "Emission_Ratios = pd.DataFrame(data = Aggregate_Data)\n",
    "print(Emission_Ratios)"
   ]
  },
  {
   "cell_type": "code",
   "execution_count": 52,
   "id": "aee349ab",
   "metadata": {},
   "outputs": [],
   "source": [
    "X_train, X_test, y_train, y_test = train_test_split(Emission_Ratios, Multi_Classifications, test_size = 0.25, random_state = 42)"
   ]
  },
  {
   "cell_type": "code",
   "execution_count": 53,
   "id": "503f356b",
   "metadata": {},
   "outputs": [],
   "source": [
    "classifier = OneVsRestClassifier(SVC(kernel='poly', C=1.0))"
   ]
  },
  {
   "cell_type": "code",
   "execution_count": 54,
   "id": "b89ab4e8",
   "metadata": {
    "scrolled": true
   },
   "outputs": [
    {
     "data": {
      "text/plain": [
       "OneVsRestClassifier(estimator=SVC(kernel='poly'))"
      ]
     },
     "execution_count": 54,
     "metadata": {},
     "output_type": "execute_result"
    }
   ],
   "source": [
    "classifier.fit(X_train, y_train)"
   ]
  },
  {
   "cell_type": "code",
   "execution_count": 55,
   "id": "9de36f7e",
   "metadata": {},
   "outputs": [],
   "source": [
    "prediction = classifier.predict(X_test)"
   ]
  },
  {
   "cell_type": "code",
   "execution_count": 56,
   "id": "b618aec8",
   "metadata": {},
   "outputs": [
    {
     "name": "stdout",
     "output_type": "stream",
     "text": [
      "Test Set Accuracy : 0.7682403433476395\n",
      "\n",
      "Classification Report : \n",
      "\n",
      "              precision    recall  f1-score   support\n",
      "\n",
      "           1       0.77      0.99      0.86       172\n",
      "           2       0.00      0.00      0.00        12\n",
      "           3       0.82      0.18      0.30        49\n",
      "\n",
      "    accuracy                           0.77       233\n",
      "   macro avg       0.53      0.39      0.39       233\n",
      "weighted avg       0.74      0.77      0.70       233\n",
      "\n"
     ]
    },
    {
     "name": "stderr",
     "output_type": "stream",
     "text": [
      "/Users/ayan/opt/anaconda3/lib/python3.8/site-packages/sklearn/metrics/_classification.py:1245: UndefinedMetricWarning: Precision and F-score are ill-defined and being set to 0.0 in labels with no predicted samples. Use `zero_division` parameter to control this behavior.\n",
      "  _warn_prf(average, modifier, msg_start, len(result))\n",
      "/Users/ayan/opt/anaconda3/lib/python3.8/site-packages/sklearn/metrics/_classification.py:1245: UndefinedMetricWarning: Precision and F-score are ill-defined and being set to 0.0 in labels with no predicted samples. Use `zero_division` parameter to control this behavior.\n",
      "  _warn_prf(average, modifier, msg_start, len(result))\n",
      "/Users/ayan/opt/anaconda3/lib/python3.8/site-packages/sklearn/metrics/_classification.py:1245: UndefinedMetricWarning: Precision and F-score are ill-defined and being set to 0.0 in labels with no predicted samples. Use `zero_division` parameter to control this behavior.\n",
      "  _warn_prf(average, modifier, msg_start, len(result))\n"
     ]
    }
   ],
   "source": [
    "print(f\"Test Set Accuracy : {accuracy_score(y_test, prediction)}\\n\")\n",
    "print(f\"Classification Report : \\n\\n{classification_report(y_test, prediction)}\")"
   ]
  },
  {
   "cell_type": "code",
   "execution_count": null,
   "id": "90025b6e",
   "metadata": {},
   "outputs": [],
   "source": []
  }
 ],
 "metadata": {
  "kernelspec": {
   "display_name": "Python 3",
   "language": "python",
   "name": "python3"
  },
  "language_info": {
   "codemirror_mode": {
    "name": "ipython",
    "version": 3
   },
   "file_extension": ".py",
   "mimetype": "text/x-python",
   "name": "python",
   "nbconvert_exporter": "python",
   "pygments_lexer": "ipython3",
   "version": "3.8.8"
  }
 },
 "nbformat": 4,
 "nbformat_minor": 5
}
