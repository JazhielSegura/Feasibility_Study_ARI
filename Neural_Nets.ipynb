{
 "cells": [
  {
   "cell_type": "code",
   "execution_count": 1,
   "id": "2200d27f",
   "metadata": {},
   "outputs": [],
   "source": [
    "import tensorflow as tf\n",
    "import numpy as np\n",
    "import pandas as pd\n",
    "from sklearn.model_selection import train_test_split\n",
    "from tensorflow.keras.optimizers.legacy import Adam\n",
    "from sklearn.metrics import accuracy_score, classification_report"
   ]
  },
  {
   "cell_type": "code",
   "execution_count": 2,
   "id": "2e877831",
   "metadata": {},
   "outputs": [],
   "source": [
    "Data = pd.read_csv('../Data/Galaxy_Data.csv')"
   ]
  },
  {
   "cell_type": "markdown",
   "id": "33957740",
   "metadata": {},
   "source": [
    "<h1> Preprocessing <h1>"
   ]
  },
  {
   "cell_type": "code",
   "execution_count": 3,
   "id": "69bbbd19",
   "metadata": {},
   "outputs": [],
   "source": [
    "Data = Data[(Data['oii_3726_flux'] != 0) & (Data['neiii_3869_flux'] != 0) & (Data['oiii_5007_flux'] != 0) & (Data['h_beta_flux'] != 0) & (Data['nii_6584_flux'] != 0) & (Data['h_alpha_flux'] != 0) & (Data['sii_6731_flux'] != 0)]\n",
    "Flux_Measurements = Data.drop(columns = ['Redshift', 'bptclass'])\n",
    "Galaxy_Classifications = Data['bptclass']"
   ]
  },
  {
   "cell_type": "code",
   "execution_count": 4,
   "id": "bdecb460",
   "metadata": {},
   "outputs": [],
   "source": [
    "def change_values(value):\n",
    "    if value == 1 or value == 2:\n",
    "        return 0\n",
    "    if value == 3:\n",
    "        return 1\n",
    "    elif value == 4 or value == 5:\n",
    "        return 2"
   ]
  },
  {
   "cell_type": "code",
   "execution_count": 5,
   "id": "f3316245",
   "metadata": {},
   "outputs": [],
   "source": [
    "Galaxy_Classifications = Galaxy_Classifications.apply(change_values)"
   ]
  },
  {
   "cell_type": "code",
   "execution_count": 6,
   "id": "fdb62bf4",
   "metadata": {},
   "outputs": [
    {
     "data": {
      "text/html": [
       "<div>\n",
       "<style scoped>\n",
       "    .dataframe tbody tr th:only-of-type {\n",
       "        vertical-align: middle;\n",
       "    }\n",
       "\n",
       "    .dataframe tbody tr th {\n",
       "        vertical-align: top;\n",
       "    }\n",
       "\n",
       "    .dataframe thead th {\n",
       "        text-align: right;\n",
       "    }\n",
       "</style>\n",
       "<table border=\"1\" class=\"dataframe\">\n",
       "  <thead>\n",
       "    <tr style=\"text-align: right;\">\n",
       "      <th></th>\n",
       "      <th>neiii_3869_flux/oii_3726_flux</th>\n",
       "      <th>oiii_5007_flux/h_beta_flux</th>\n",
       "      <th>nii_6584_flux/h_alpha_flux</th>\n",
       "      <th>sii_6731_flux/h_alpha_flux</th>\n",
       "    </tr>\n",
       "  </thead>\n",
       "  <tbody>\n",
       "    <tr>\n",
       "      <th>0</th>\n",
       "      <td>-0.066153</td>\n",
       "      <td>0.731779</td>\n",
       "      <td>0.445568</td>\n",
       "      <td>0.223006</td>\n",
       "    </tr>\n",
       "    <tr>\n",
       "      <th>2</th>\n",
       "      <td>0.063194</td>\n",
       "      <td>0.836349</td>\n",
       "      <td>0.519029</td>\n",
       "      <td>0.217885</td>\n",
       "    </tr>\n",
       "    <tr>\n",
       "      <th>3</th>\n",
       "      <td>-0.061819</td>\n",
       "      <td>0.250297</td>\n",
       "      <td>0.298235</td>\n",
       "      <td>0.105591</td>\n",
       "    </tr>\n",
       "    <tr>\n",
       "      <th>4</th>\n",
       "      <td>-0.041741</td>\n",
       "      <td>0.925244</td>\n",
       "      <td>0.202580</td>\n",
       "      <td>0.202057</td>\n",
       "    </tr>\n",
       "    <tr>\n",
       "      <th>5</th>\n",
       "      <td>1.217840</td>\n",
       "      <td>0.294629</td>\n",
       "      <td>0.100871</td>\n",
       "      <td>-0.012745</td>\n",
       "    </tr>\n",
       "  </tbody>\n",
       "</table>\n",
       "</div>"
      ],
      "text/plain": [
       "   neiii_3869_flux/oii_3726_flux  oiii_5007_flux/h_beta_flux   \n",
       "0                      -0.066153                    0.731779  \\\n",
       "2                       0.063194                    0.836349   \n",
       "3                      -0.061819                    0.250297   \n",
       "4                      -0.041741                    0.925244   \n",
       "5                       1.217840                    0.294629   \n",
       "\n",
       "   nii_6584_flux/h_alpha_flux  sii_6731_flux/h_alpha_flux  \n",
       "0                    0.445568                    0.223006  \n",
       "2                    0.519029                    0.217885  \n",
       "3                    0.298235                    0.105591  \n",
       "4                    0.202580                    0.202057  \n",
       "5                    0.100871                   -0.012745  "
      ]
     },
     "execution_count": 6,
     "metadata": {},
     "output_type": "execute_result"
    }
   ],
   "source": [
    "Aggregate_Data = {'neiii_3869_flux/oii_3726_flux':Flux_Measurements['neiii_3869_flux']/Flux_Measurements['oii_3726_flux'], \n",
    "            'oiii_5007_flux/h_beta_flux' : Flux_Measurements['oiii_5007_flux']/Flux_Measurements['h_beta_flux'],  \n",
    "            'nii_6584_flux/h_alpha_flux': Flux_Measurements['nii_6584_flux']/Flux_Measurements['h_alpha_flux'],\n",
    "            'sii_6731_flux/h_alpha_flux':Flux_Measurements['sii_6731_flux']/Flux_Measurements['h_alpha_flux']}\n",
    "Emission_Ratios = pd.DataFrame(data = Aggregate_Data)\n",
    "Emission_Ratios.head()"
   ]
  },
  {
   "cell_type": "code",
   "execution_count": 7,
   "id": "ded00553",
   "metadata": {},
   "outputs": [],
   "source": [
    "X_train, X_test, y_train, y_test = train_test_split(Emission_Ratios, Galaxy_Classifications, test_size=0.2, random_state=42)"
   ]
  },
  {
   "cell_type": "code",
   "execution_count": 8,
   "id": "a3e67213",
   "metadata": {},
   "outputs": [],
   "source": [
    "model = tf.keras.Sequential([\n",
    "    tf.keras.layers.Input(shape=(Emission_Ratios.shape[1],)),  # Input layer based on the number of features\n",
    "    tf.keras.layers.Dense(32, activation='relu'),\n",
    "    tf.keras.layers.Dense(3, activation='softmax')  # Output layer with 3 neurons for the three classes and softmax activation\n",
    "])\n",
    "\n",
    "model.compile(optimizer='adam', loss='sparse_categorical_crossentropy', metrics=['accuracy'])"
   ]
  },
  {
   "cell_type": "code",
   "execution_count": 9,
   "id": "fe542840",
   "metadata": {},
   "outputs": [
    {
     "data": {
      "text/plain": [
       "<keras.callbacks.History at 0x7fb974d8eaf0>"
      ]
     },
     "execution_count": 9,
     "metadata": {},
     "output_type": "execute_result"
    }
   ],
   "source": [
    "model.fit(X_train, y_train, epochs=100, verbose=0)"
   ]
  },
  {
   "cell_type": "code",
   "execution_count": 10,
   "id": "16c5d2e5",
   "metadata": {},
   "outputs": [
    {
     "name": "stdout",
     "output_type": "stream",
     "text": [
      "2/2 [==============================] - 0s 5ms/step - loss: 1.4020 - accuracy: 0.8108\n",
      "Test Loss: 1.4020, Test Accuracy: 81.08%\n"
     ]
    }
   ],
   "source": [
    "loss, accuracy = model.evaluate(X_test, y_test)\n",
    "print(f\"Test Loss: {loss:.4f}, Test Accuracy: {accuracy * 100:.2f}%\")"
   ]
  },
  {
   "cell_type": "code",
   "execution_count": 11,
   "id": "5cb961e3",
   "metadata": {},
   "outputs": [
    {
     "name": "stdout",
     "output_type": "stream",
     "text": [
      "2/2 [==============================] - 0s 3ms/step\n"
     ]
    }
   ],
   "source": [
    "predictions = model.predict(X_test)"
   ]
  },
  {
   "cell_type": "code",
   "execution_count": null,
   "id": "36bd1da2",
   "metadata": {},
   "outputs": [],
   "source": []
  }
 ],
 "metadata": {
  "kernelspec": {
   "display_name": "Python 3",
   "language": "python",
   "name": "python3"
  },
  "language_info": {
   "codemirror_mode": {
    "name": "ipython",
    "version": 3
   },
   "file_extension": ".py",
   "mimetype": "text/x-python",
   "name": "python",
   "nbconvert_exporter": "python",
   "pygments_lexer": "ipython3",
   "version": "3.8.8"
  }
 },
 "nbformat": 4,
 "nbformat_minor": 5
}
